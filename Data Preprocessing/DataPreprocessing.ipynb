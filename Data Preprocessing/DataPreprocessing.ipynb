{
 "cells": [
  {
   "cell_type": "markdown",
   "id": "879c8f03-b237-47fc-b87d-04d4342ffa0c",
   "metadata": {},
   "source": [
    "Importing the libraries"
   ]
  },
  {
   "cell_type": "code",
   "execution_count": 2,
   "id": "0c493e98-154c-40d7-8b4d-b9fc969df60e",
   "metadata": {},
   "outputs": [],
   "source": [
    "import pandas as pd\n",
    "import numpy as np\n",
    "import matplotlib.pyplot as plt"
   ]
  },
  {
   "cell_type": "markdown",
   "id": "2a0bbb1b-15cc-4841-b77a-94c96fad40db",
   "metadata": {},
   "source": [
    "Importing the dataset"
   ]
  },
  {
   "cell_type": "code",
   "execution_count": 2,
   "id": "20e63509-dcd4-46d3-9616-96b81c290294",
   "metadata": {},
   "outputs": [],
   "source": [
    "dataSet=pd.read_csv('Data.csv')\n",
    "X=dataSet.iloc[:,:-1].values\n",
    "y=dataSet.iloc[:,-1].values"
   ]
  },
  {
   "cell_type": "code",
   "execution_count": null,
   "id": "fe00e8d9-b862-4d7a-b610-e29f485a50a8",
   "metadata": {
    "scrolled": true
   },
   "outputs": [],
   "source": [
    "X"
   ]
  },
  {
   "cell_type": "code",
   "execution_count": null,
   "id": "e36a9c9b-aee1-400d-9cce-690174c8db75",
   "metadata": {},
   "outputs": [],
   "source": [
    "y"
   ]
  },
  {
   "cell_type": "markdown",
   "id": "de41191a-22d8-4543-a12b-c34bddb090af",
   "metadata": {},
   "source": [
    "Taking care of missing data(eksik verilerle ilgilenmek)"
   ]
  },
  {
   "cell_type": "code",
   "execution_count": 5,
   "id": "3becd8d1-b3ac-46b2-880b-8a710e206e9e",
   "metadata": {},
   "outputs": [],
   "source": [
    "from sklearn.impute import SimpleImputer\n",
    "imputer=SimpleImputer(missing_values=np.nan,strategy='mean')\n",
    "imputer.fit(X[:,1:3])  #sadece sayısal kolonları alıyoruz\n",
    "X[:,1:3]=imputer.transform(X[:,1:3])\n"
   ]
  },
  {
   "cell_type": "code",
   "execution_count": null,
   "id": "e04b7743-d0b6-4153-95ff-5aa8f18291e4",
   "metadata": {},
   "outputs": [],
   "source": [
    "X"
   ]
  },
  {
   "cell_type": "markdown",
   "id": "69a73bec-5ff0-4ecd-8660-aba076aeda16",
   "metadata": {},
   "source": [
    "Encoding the Independent Variable(Bağımsız Değişkenin Kodlanması)"
   ]
  },
  {
   "cell_type": "code",
   "execution_count": 7,
   "id": "0f082487-7251-49d1-b52b-6851d7363e89",
   "metadata": {},
   "outputs": [],
   "source": [
    "from sklearn.compose import ColumnTransformer\n",
    "from sklearn.preprocessing import OneHotEncoder\n",
    "ct=ColumnTransformer(transformers=[('encoder',OneHotEncoder(),[0])],remainder='passthrough')\n",
    "X=np.array(ct.fit_transform(X))"
   ]
  },
  {
   "cell_type": "code",
   "execution_count": null,
   "id": "b93b08fc-bb3f-4308-804c-5ed33cbb19da",
   "metadata": {},
   "outputs": [],
   "source": [
    "X"
   ]
  },
  {
   "cell_type": "markdown",
   "id": "ab36b3e9-9092-4e6f-a12f-a0b5c469c68f",
   "metadata": {},
   "source": [
    "Encoding the Dependent Variable(Bağımlı Değişkenin Kodlanması)"
   ]
  },
  {
   "cell_type": "code",
   "execution_count": 9,
   "id": "b940c1be-d127-4b16-88de-4014619a2271",
   "metadata": {},
   "outputs": [],
   "source": [
    "from sklearn.preprocessing import LabelEncoder\n",
    "le=LabelEncoder()\n",
    "y=le.fit_transform(y)"
   ]
  },
  {
   "cell_type": "code",
   "execution_count": null,
   "id": "f964bc3c-8896-4cb0-a175-9bed3fcfb59a",
   "metadata": {},
   "outputs": [],
   "source": [
    "y"
   ]
  },
  {
   "cell_type": "markdown",
   "id": "321efbdc-bed8-409d-b524-c423b21c77ff",
   "metadata": {},
   "source": [
    "Splitting the dataset into the Train set and Test set(Veri kümesini Eğitim kümesi ve Test kümesine bölme)"
   ]
  },
  {
   "cell_type": "code",
   "execution_count": 11,
   "id": "392b6932-b440-49bb-81dd-91e38382f6ce",
   "metadata": {},
   "outputs": [],
   "source": [
    "#veri setini eğtim ve test setine böldükten sonra özellik ölçeklendirmesi yapılmalı \n",
    "#bunun nedeni test setinde  bilgi sızıntısını önlemek \n",
    "\n",
    "from sklearn.model_selection import train_test_split\n",
    "X_train,X_test,y_train,y_test=train_test_split(X,y,test_size=0.2,random_state=1)"
   ]
  },
  {
   "cell_type": "code",
   "execution_count": null,
   "id": "d9c935d5-40bf-4545-8f0a-16a6a8a88eae",
   "metadata": {},
   "outputs": [],
   "source": [
    "X_train"
   ]
  },
  {
   "cell_type": "code",
   "execution_count": null,
   "id": "aae66804-ca77-4ef2-b6f2-b1df61ef305c",
   "metadata": {},
   "outputs": [],
   "source": [
    "X_test"
   ]
  },
  {
   "cell_type": "code",
   "execution_count": null,
   "id": "79800243-a48d-492c-b2de-1397731f4fca",
   "metadata": {},
   "outputs": [],
   "source": [
    "y_train"
   ]
  },
  {
   "cell_type": "code",
   "execution_count": null,
   "id": "9dea7b6f-b722-4326-84bc-7b403a3e4615",
   "metadata": {},
   "outputs": [],
   "source": [
    "y_test"
   ]
  },
  {
   "cell_type": "markdown",
   "id": "095314aa-5884-4acb-93bf-be2e9ec9b8ee",
   "metadata": {},
   "source": [
    "Feature Scaling"
   ]
  },
  {
   "cell_type": "code",
   "execution_count": 16,
   "id": "90045e63-a81d-4a45-8942-385414a2fb7f",
   "metadata": {},
   "outputs": [],
   "source": [
    "#bağzı özelliklerin diğer özellikler tatafından domine edilmesini önelemk için kukla degerlere uygulamak mantıksız \n",
    "\n",
    "from sklearn.preprocessing import StandardScaler\n",
    "sc=StandardScaler()\n",
    "X_train[:,3:]=sc.fit_transform(X_train[:,3:])\n",
    "X_test[:,3:]=sc.transform(X_test[:,3:])"
   ]
  },
  {
   "cell_type": "code",
   "execution_count": null,
   "id": "363cb4c1-acb7-427b-8e8a-1d55da1b8ef7",
   "metadata": {},
   "outputs": [],
   "source": [
    "X_train"
   ]
  },
  {
   "cell_type": "code",
   "execution_count": null,
   "id": "4a9dfc73-071d-459f-8792-897aa4f14618",
   "metadata": {},
   "outputs": [],
   "source": [
    "X_test"
   ]
  },
  {
   "cell_type": "code",
   "execution_count": null,
   "id": "691d274c-1b7c-43b8-be69-b26b1fa00480",
   "metadata": {},
   "outputs": [],
   "source": []
  },
  {
   "cell_type": "code",
   "execution_count": null,
   "id": "06284bc8-d49a-4002-8bb1-f794fb51f2a4",
   "metadata": {},
   "outputs": [],
   "source": []
  }
 ],
 "metadata": {
  "kernelspec": {
   "display_name": "Python 3",
   "language": "python",
   "name": "python3"
  },
  "language_info": {
   "codemirror_mode": {
    "name": "ipython",
    "version": 3
   },
   "file_extension": ".py",
   "mimetype": "text/x-python",
   "name": "python",
   "nbconvert_exporter": "python",
   "pygments_lexer": "ipython3",
   "version": "3.12.1"
  },
  "widgets": {
   "application/vnd.jupyter.widget-state+json": {
    "state": {},
    "version_major": 2,
    "version_minor": 0
   }
  }
 },
 "nbformat": 4,
 "nbformat_minor": 5
}
